{
 "cells": [
  {
   "cell_type": "markdown",
   "metadata": {},
   "source": [
    "# Examples"
   ]
  },
  {
   "cell_type": "code",
   "execution_count": 2,
   "metadata": {},
   "outputs": [],
   "source": [
    "import numpy as np"
   ]
  },
  {
   "cell_type": "code",
   "execution_count": 5,
   "metadata": {},
   "outputs": [
    {
     "data": {
      "text/plain": [
       "array([1])"
      ]
     },
     "execution_count": 5,
     "metadata": {},
     "output_type": "execute_result"
    }
   ],
   "source": [
    "# throwing a coin 1 time (0 is tail 1 is heads)\n",
    "np.random.randint(low=0,high=2,size=1)     # her calistirmada farkli deger uretir"
   ]
  },
  {
   "cell_type": "code",
   "execution_count": 11,
   "metadata": {},
   "outputs": [
    {
     "name": "stdout",
     "output_type": "stream",
     "text": [
      "[1 1 0 1 0 0 0 1 1 1]\n",
      "6\n"
     ]
    }
   ],
   "source": [
    "# throwing a coin 10 times ( 0 is tail 1 is heads)\n",
    "coin = np.random.randint(0,2,size=10)\n",
    "print(coin)\n",
    "print(coin.sum())"
   ]
  },
  {
   "cell_type": "code",
   "execution_count": 8,
   "metadata": {},
   "outputs": [
    {
     "data": {
      "text/plain": [
       "array([[0, 0, 0, 1, 0, 1, 0, 0, 1, 1],\n",
       "       [1, 1, 1, 1, 0, 0, 0, 0, 0, 0],\n",
       "       [0, 0, 1, 1, 1, 0, 0, 0, 0, 0],\n",
       "       [1, 0, 1, 1, 1, 1, 0, 1, 1, 0],\n",
       "       [1, 0, 1, 1, 1, 1, 0, 1, 0, 0]])"
      ]
     },
     "execution_count": 8,
     "metadata": {},
     "output_type": "execute_result"
    }
   ],
   "source": [
    "# Her satir 10 atis \n",
    "coin_matrix=np.random.randint(0,2,size=(10000,10))   # 10000 satir olacak 10 sutun olacak\n",
    "coin_matrix[:5,:]         # ilk 5 satiri getirecek ve tum sutunlar"
   ]
  },
  {
   "cell_type": "code",
   "execution_count": 9,
   "metadata": {},
   "outputs": [
    {
     "name": "stdout",
     "output_type": "stream",
     "text": [
      "[4 4 3 7 6 5 5 4 3 5 2 6 7 7 7 5 5 5 5 3 4 7 8 5 4]\n",
      "5.019\n",
      "5.0\n",
      "0 10\n",
      "1.5652600422932927\n"
     ]
    }
   ],
   "source": [
    "counts = coin_matrix.sum(axis=1)   # axis=1 satirlari toplamak icin axis=0 olsaydi sutunun tamamini toplardi \n",
    "print(counts[:25])    # 25 satirin tek tek toplami\n",
    "print(counts.mean())     # ortalamasi\n",
    "print(np.median(counts))  # tam ortadaki deger\n",
    "print(counts.min(),counts.max())\n",
    "print(counts.std())  # standart sapma "
   ]
  },
  {
   "cell_type": "code",
   "execution_count": 12,
   "metadata": {},
   "outputs": [
    {
     "data": {
      "text/plain": [
       "array([  12,   87,  422, 1132, 2086, 2404, 2139, 1171,  460,   82,    5],\n",
       "      dtype=int64)"
      ]
     },
     "execution_count": 12,
     "metadata": {},
     "output_type": "execute_result"
    }
   ],
   "source": [
    "np.bincount(counts)  # tek satirda kac kere 0 gorulmus "
   ]
  },
  {
   "cell_type": "code",
   "execution_count": 13,
   "metadata": {},
   "outputs": [
    {
     "name": "stdout",
     "output_type": "stream",
     "text": [
      "============\n",
      "\n",
      "0 heads observed 12 times (0.6%)\n",
      "1 heads observed 87 times (4.3%)\n",
      "2 heads observed 422 times (21.1%)\n",
      "3 heads observed 1132 times (56.6%)\n",
      "4 heads observed 2086 times (104.3%)\n",
      "5 heads observed 2404 times (120.2%)\n",
      "6 heads observed 2139 times (107.0%)\n",
      "7 heads observed 1171 times (58.5%)\n",
      "8 heads observed 460 times (23.0%)\n",
      "9 heads observed 82 times (4.1%)\n",
      "10 heads observed 5 times (0.2%)\n"
     ]
    }
   ],
   "source": [
    "unique_numbers = np.arange(0,11) # ust satirdaki 11 tane rakamdan dolayi yapilmis\n",
    "observed_times = np.bincount(counts)\n",
    "print('============\\n')\n",
    "for n,count in zip(unique_numbers,observed_times):\n",
    "    print('{} heads observed {} times ({:0.1f}%)'.format(n,count,100*count/2000))"
   ]
  },
  {
   "cell_type": "code",
   "execution_count": null,
   "metadata": {},
   "outputs": [],
   "source": []
  }
 ],
 "metadata": {
  "kernelspec": {
   "display_name": "Python 3",
   "language": "python",
   "name": "python3"
  },
  "language_info": {
   "codemirror_mode": {
    "name": "ipython",
    "version": 3
   },
   "file_extension": ".py",
   "mimetype": "text/x-python",
   "name": "python",
   "nbconvert_exporter": "python",
   "pygments_lexer": "ipython3",
   "version": "3.7.3"
  }
 },
 "nbformat": 4,
 "nbformat_minor": 2
}
